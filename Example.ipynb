{
 "cells": [
  {
   "cell_type": "code",
   "execution_count": 19,
   "metadata": {},
   "outputs": [
    {
     "data": {
      "text/plain": [
       "{'y1': 0.001, 'y2': 0.0, 'y3': 0.0, 'y4': 0.001, 'y5': 0.0, 'y6': 0.0, 'y7': 0}"
      ]
     },
     "execution_count": 19,
     "metadata": {},
     "output_type": "execute_result"
    }
   ],
   "source": [
    "from math_expression_calculator import *\n",
    "\n",
    "result_keys = [\"y1\",\"y2\",\"y3\",\"y4\",\"y5\",\"y6\",\"y7\"]\n",
    "\n",
    "formulae = [\n",
    "    \"x1 * x2 / 1000\",\n",
    "    \"x3 * (x4 * x5 - x6 * x7) / 1000\",\n",
    "    \"x8 * (x9 * x10 - x6 * x10) / 1000\",\n",
    "    \"x11 * x12 / 1000\",\n",
    "    \"(x8 - x13) * (x9 * x10 - x6 * x10) / 1000\",\n",
    "    \"x14 * (x15 * x16 - x6 * x16) / (1000 - x17)\",\n",
    "    \"x18 * (x19 - x20) * x21\",\n",
    "]\n",
    "\n",
    "total_variables = {\"x1\": 1, \"x2\": 1, \"x3\": 1, \"x4\": 1, \"x5\": 1,\n",
    "                   \"x6\": 1, \"x7\": 1, \"x8\": 1, \"x9\": 1, \"x10\": 1, \n",
    "                   \"x11\": 1, \"x12\": 1,\"x13\": 1, \"x14\": 1, \"x15\": 1, \n",
    "                   \"x16\": 1, \"x17\": 1, \"x18\": 1, \"x19\": 1, \"x20\": 1, \"x21\": 1}\n",
    "\n",
    "calculator = MathExpressionCalculator()\n",
    "results = {}\n",
    "for formula, res_key in zip(formulae, result_keys):\n",
    "    results[res_key] = calculator.calculate_formula(formula=formula, variables_dict=total_variables)\n",
    "results"
   ]
  }
 ],
 "metadata": {
  "kernelspec": {
   "display_name": "techdas",
   "language": "python",
   "name": "python3"
  },
  "language_info": {
   "codemirror_mode": {
    "name": "ipython",
    "version": 3
   },
   "file_extension": ".py",
   "mimetype": "text/x-python",
   "name": "python",
   "nbconvert_exporter": "python",
   "pygments_lexer": "ipython3",
   "version": "3.7.11"
  }
 },
 "nbformat": 4,
 "nbformat_minor": 2
}
