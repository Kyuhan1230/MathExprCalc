{
 "cells": [
  {
   "cell_type": "code",
   "execution_count": 1,
   "metadata": {},
   "outputs": [
    {
     "data": {
      "text/plain": [
       "{'y1': 0.001, 'y2': 0.0, 'y3': 0.0, 'y4': 0.001, 'y5': 0.0, 'y6': 0.0, 'y7': 0}"
      ]
     },
     "execution_count": 1,
     "metadata": {},
     "output_type": "execute_result"
    }
   ],
   "source": [
    "from math_expression_calculator import *\n",
    "\n",
    "result_keys = [\"y1\",\"y2\",\"y3\",\"y4\",\"y5\",\"y6\",\"y7\"]\n",
    "\n",
    "formulae = [\n",
    "    \"x1 * x2 / 1000\",\n",
    "    \"x3 * (x4 * x5 - x6 * x7) / 1000\",\n",
    "    \"x8 * (x9 * x10 - x6 * x10) / 1000\",\n",
    "    \"x11 * x12 / 1000\",\n",
    "    \"(x8 - x13) * (x9 * x10 - x6 * x10) / 1000\",\n",
    "    \"x14 * (x15 * x16 - x6 * x16) / (1000 - x17)\",\n",
    "    \"x18 * (x19 - x20) * x21\",\n",
    "]\n",
    "\n",
    "total_variables = {\"x1\": 1, \"x2\": 1, \"x3\": 1, \"x4\": 1, \"x5\": 1,\n",
    "                   \"x6\": 1, \"x7\": 1, \"x8\": 1, \"x9\": 1, \"x10\": 1, \n",
    "                   \"x11\": 1, \"x12\": 1,\"x13\": 1, \"x14\": 1, \"x15\": 1, \n",
    "                   \"x16\": 1, \"x17\": 1, \"x18\": 1, \"x19\": 1, \"x20\": 1, \"x21\": 1}\n",
    "\n",
    "calculator = MathExpressionCalculator()\n",
    "results = {}\n",
    "for formula, res_key in zip(formulae, result_keys):\n",
    "    results[res_key] = calculator.calculate_formula(formula=formula, variables_dict=total_variables)\n",
    "results"
   ]
  },
  {
   "cell_type": "markdown",
   "metadata": {},
   "source": [
    "## 이 계산기를 사용하면서 달라진 점 비교\n",
    "예시로 공정의 효율을 계산하는 한 수식을 사용합니다.\n",
    "\n",
    "### 기존 방식\n",
    "아래 코드 블록은 기존 방식으로 효율을 계산하는 함수입니다. 이 방법은 매 프로젝트마다 식이 조금씩 달라져서 코드를 매번 수정해야 합니다."
   ]
  },
  {
   "cell_type": "code",
   "execution_count": 2,
   "metadata": {},
   "outputs": [
    {
     "name": "stdout",
     "output_type": "stream",
     "text": [
      "기존 방식 효율: 92.66536047236525\n"
     ]
    }
   ],
   "source": [
    "# 기존 사용 방식과 비교\n",
    "# 매 프로젝트 별로 아래의 효율 식이 조금씩 달라서 매번 수정해야 했음.\n",
    "def calc_eff():\n",
    "\tx14 = 18.9159\n",
    "\tx32 = 175.11\n",
    "\tx38 = 34100 # Calorie\n",
    "\tx39 = 7.5 # H\n",
    "\tx40 = 80.4 # C\n",
    "\tx41 = 0.03 # S\n",
    "\tx42 = 0.01 # N2\n",
    "\tx43 = 0 # ASH\n",
    "\tx44 = 0 # O%\n",
    "\tx45 = 0.02 # Moisture\n",
    "\tx46 = 0 # Bottom Ash kCal\n",
    "\n",
    "\ty1 = 14.2977\n",
    "\ty2 = 1.82434\n",
    "\ty5 = 1.49931\n",
    "\n",
    "\th2o = 100 - (x39 + x40 + x41 + x42 + x43)\n",
    "\teffi_ta = (11.6 * x40 + 34.8 * (x39 - x44/8) + 4.35 * x41) / 100\n",
    "\teffi_ea = (y2 * 100) / (21 - y2)\n",
    "\teffi_amas = (1 + effi_ea / 100) * effi_ta\n",
    "\teffi_amdfg = x40 * 0.036667 + x42 * 0.02 + x41 * 0.01 + (effi_amas - effi_ta) * 0.23 + effi_amas * 0.77\n",
    "\n",
    "\tl1 = 23 * effi_amdfg * (x32 - x14) / (x38 / 4.184)\n",
    "\tl2 = (9 * x39 * (0.45 * (x32 - x41))) / (x38 / 4.184)\n",
    "\tl3 = h2o * (0.45 * (x32 - x14)) / (x38 / 4.184)\n",
    "\tl4 = 45 * effi_amas * x45 * (x32 - x14) / (x38 / 4.184)\n",
    "\tl5 = 5744 * (y5 / 10000) * x40 / ((y5 / 10000) + y1) / (x38 / 4.184)\n",
    "\tl6 = 0.5\n",
    "\tl7 = 0.25 * x43 * x46 / 4 / (x38 / 4.184)\n",
    "\tl8 = 0.75 * x43 * x46 / (x38 / 4.184)\n",
    "\n",
    "\teff = 100 - (l1 + l2 + l3 + l4 + l5 + l6 + l7 + l8)\n",
    "\treturn eff\n",
    "\n",
    "eff = calc_eff()\n",
    "print(\"기존 방식 효율:\", eff)"
   ]
  },
  {
   "cell_type": "markdown",
   "metadata": {},
   "source": [
    "### 새로운 방식\n",
    "아래 코드 블록은 `MathExpressionCalculator`를 사용하는 새로운 방식입니다. 이 방법은 외부에서 수식을 정의하고, 계산기 클래스를 통해 계산을 수행합니다. 이렇게 하면, 수식 변경이 필요할 때 코드를 수정하는 대신 외부에서 수식을 쉽게 변경할 수 있습니다."
   ]
  },
  {
   "cell_type": "code",
   "execution_count": 3,
   "metadata": {},
   "outputs": [
    {
     "name": "stdout",
     "output_type": "stream",
     "text": [
      "새로운 방식 효율: 92.66536047236525\n"
     ]
    }
   ],
   "source": [
    "def calc_eff_by_calculator(calculator, variables_, formulae):\n",
    "    for key, formula in formulas.items():\n",
    "        # 계산된 변수 값을 현재 수식에 적용\n",
    "        for var in variables:\n",
    "            formula = formula.replace(var, str(variables_[var]))\n",
    "        # 수식 계산\n",
    "        result = calculator.calculate_formula(formula, variables_)\n",
    "        # 계산 결과가 숫자인지 확인\n",
    "        if isinstance(result, (int, float)):\n",
    "            variables_[key] = result\n",
    "        else:\n",
    "            return f\"Error in calculating {key}: {result}\"\n",
    "\n",
    "    return variables_['eff']\n",
    "\n",
    "# 사용 예시\n",
    "calculator = MathExpressionCalculator()\n",
    "variables = {'x14': 18.9159, 'x32': 175.11, 'x38': 34100,\n",
    "             'x39': 7.5, 'x40': 80.4, 'x41': 0.03, 'x42': 0.01, 'x43': 0,\n",
    "             'x44': 0, 'x45': 0.02, 'x46': 0,'y1': 14.2977, 'y2': 1.82434, 'y5': 1.49931\n",
    "            }\n",
    "formulas = {\n",
    "            'h2o': \"100 - (x39 + x40 + x41 + x42 + x43)\",\n",
    "            'effi_ta': \"(11.6 * x40 + 34.8 * (x39 - x44/8) + 4.35 * x41) / 100\",\n",
    "            'effi_ea': \"(y2 * 100) / (21 - y2)\",\n",
    "            'effi_amas': \"(1 + (effi_ea / 100)) * effi_ta\",\n",
    "            'effi_amdfg': \"x40 * 0.036667 + x42 * 0.02 + x41 * 0.01 + ((effi_amas - effi_ta) * 0.23) + (effi_amas * 0.77)\",\n",
    "            'l1': \"23 * effi_amdfg * (x32 - x14) / (x38 / 4.184)\",\n",
    "            'l2': \"(9 * x39 * (0.45 * (x32 - x41))) / (x38 / 4.184)\",\n",
    "            'l3': \"h2o * (0.45 * (x32 - x14)) / (x38 / 4.184)\",\n",
    "            'l4': \"45 * effi_amas * x45 * (x32 - x14) / (x38 / 4.184)\",\n",
    "            'l5': \"5744 * (y5 / 10000) * x40 / ((y5 / 10000) + y1) / (x38 / 4.184)\",\n",
    "            'l6': \"0.5\",\n",
    "            'l7': \"0.25 * x43 * x46 / 4 / (x38 / 4.184)\",\n",
    "            'l8': \"0.75 * x43 * x46 / (x38 / 4.184)\",\n",
    "            'eff': \"100 - (l1 + l2 + l3 + l4 + l5 + l6 + l7 + l8)\"\n",
    "            }\n",
    "efficiency = calc_eff_by_calculator(calculator, variables, formulas)\n",
    "print(\"새로운 방식 효율:\", efficiency)"
   ]
  },
  {
   "cell_type": "markdown",
   "metadata": {},
   "source": [
    "## 비교 및 결론\n",
    "\n",
    "| 구분 | 기존 방식 (직접 계산) | 새로운 방식 (MathExpressionCalculator 사용) |\n",
    "|------|---------------------|-------------------------------------|\n",
    "| **장점** | - 직관적이고 간단함<br> - 디버깅이 쉬움 | - 유연성이 높음<br> - 재사용성이 좋음<br> - 복잡한 수식 처리 용이 |\n",
    "| **단점** | - 유연성 부족<br> - 재사용성 제한 | - 학습 곡선이 존재<br> - 디버깅이 복잡할 수 있음 |\n",
    "| **적합한 사용 사례** | - 간단한 프로젝트<br> - 수식 변경이 자주 없는 경우 | - 복잡한 프로젝트<br> - 수식이 자주 변경되거나 다양한 수식이 필요한 경우 |\n",
    "\n",
    "### 결론:\n",
    "\n",
    "- **작은 프로젝트**: 기존 방식이 더 적합할 수 있음. 프로젝트의 복잡성이 낮고 수식 변경이 드물 경우, 간단하고 직관적인 접근이 유리함.\n",
    "- **큰 프로젝트**: 새로운 방식이 더 효과적일 수 있음. 프로젝트의 복잡성이 높고 다양한 수식을 자주 변경해야 하는 경우, 유연성과 재사용성이 높은 접근이 필요함.\n",
    "- **다양한 수식 필요**: 새로운 방식이 이상적이다. 수식을 외부에서 정의하고 쉽게 수정할 수 있으므로, 다양한 계산 요구사항에 빠르게 대응할 수 있음.\n"
   ]
  }
 ],
 "metadata": {
  "kernelspec": {
   "display_name": "techdas",
   "language": "python",
   "name": "python3"
  },
  "language_info": {
   "codemirror_mode": {
    "name": "ipython",
    "version": 3
   },
   "file_extension": ".py",
   "mimetype": "text/x-python",
   "name": "python",
   "nbconvert_exporter": "python",
   "pygments_lexer": "ipython3",
   "version": "3.7.11"
  }
 },
 "nbformat": 4,
 "nbformat_minor": 2
}
